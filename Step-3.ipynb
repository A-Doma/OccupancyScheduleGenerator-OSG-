{
 "cells": [
  {
   "cell_type": "code",
   "execution_count": 4,
   "id": "03a48e1b",
   "metadata": {},
   "outputs": [],
   "source": [
    "import pandas as pd\n",
    "import numpy as np\n",
    "import openpyxl\n",
    "import pyarrow as pa\n",
    "import pyarrow.parquet as pq\n",
    "import glob\n",
    "import os\n",
    "from pandas.io.formats.excel import ExcelFormatter\n",
    "from pandas.io import gbq\n",
    "from openpyxl.workbook import Workbook\n",
    "from shutil import copyfile\n",
    "from pathlib import Path"
   ]
  },
  {
   "cell_type": "code",
   "execution_count": 5,
   "id": "bee5bace",
   "metadata": {},
   "outputs": [],
   "source": [
    "old_path = \"D:\\\\EcoBee\\\\Internship Final Steps\\\\Updated All Canada_1\"\n",
    "old_parquet_files = glob.glob(os.path.join(old_path, \"*.parquet\"))\n",
    "new_path = \"D:\\\\EcoBee\\\\Internship Final Steps\\\\Updated All Canada_2\"\n",
    "new_parquet_files = glob.glob(os.path.join(new_path, \"*.parquet\"))"
   ]
  },
  {
   "cell_type": "code",
   "execution_count": 6,
   "id": "d0afbfc2",
   "metadata": {},
   "outputs": [],
   "source": [
    "for file in old_parquet_files:\n",
    "    df = (pd.read_parquet(file))\n",
    "    UniqueNames = df.Identifier.unique()\n",
    "    DataFrameDict = {elem : pd.DataFrame() for elem in UniqueNames}\n",
    "    for key in DataFrameDict.keys():\n",
    "        DataFrameDict[key] = df[:][df.Identifier == key]\n",
    "        df_1= DataFrameDict[key]\n",
    "        df['date_time'] = pd.to_datetime(df['date_time'])\n",
    "        filepath = new_path + '/' + key + '.parquet'\n",
    "\n",
    "        # Create a new column 'day_type' to store the weekday/weekend labels\n",
    "        df['day_type'] = df['date_time'].dt.dayofweek\n",
    "\n",
    "        # Map the weekday indices to labels\n",
    "        df['day_type'] = df['day_type'].map({0: 'weekday', 1: 'weekday', 2: 'weekday', 3: 'weekday', 4: 'weekday', 5: 'weekend', 6: 'weekend'})\n",
    "        df.to_parquet(filepath)"
   ]
  },
  {
   "cell_type": "code",
   "execution_count": null,
   "id": "a6181cbc",
   "metadata": {},
   "outputs": [],
   "source": []
  }
 ],
 "metadata": {
  "kernelspec": {
   "display_name": "Python 3 (ipykernel)",
   "language": "python",
   "name": "python3"
  },
  "language_info": {
   "codemirror_mode": {
    "name": "ipython",
    "version": 3
   },
   "file_extension": ".py",
   "mimetype": "text/x-python",
   "name": "python",
   "nbconvert_exporter": "python",
   "pygments_lexer": "ipython3",
   "version": "3.9.13"
  }
 },
 "nbformat": 4,
 "nbformat_minor": 5
}
