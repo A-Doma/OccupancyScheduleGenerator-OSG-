{
 "cells": [
  {
   "cell_type": "code",
   "execution_count": 1,
   "id": "f8291cd9",
   "metadata": {},
   "outputs": [],
   "source": [
    "import pandas as pd\n",
    "import numpy as np\n",
    "import openpyxl\n",
    "import pyarrow as pa\n",
    "import pyarrow.parquet as pq\n",
    "import glob\n",
    "import os\n",
    "from pandas.io.formats.excel import ExcelFormatter\n",
    "from pandas.io import gbq\n",
    "from openpyxl.workbook import Workbook\n",
    "from shutil import copyfile\n",
    "from pathlib import Path"
   ]
  },
  {
   "cell_type": "code",
   "execution_count": 2,
   "id": "ebcdb362",
   "metadata": {},
   "outputs": [],
   "source": [
    "old_path = \"D:\\\\EcoBee\\\\Internship Final Steps\\\\Updated All Canada_2\"\n",
    "old_parquet_files = glob.glob(os.path.join(old_path, \"*.parquet\"))\n",
    "new_path = \"D:\\\\EcoBee\\\\Internship Final Steps\\\\Updated All Canada_3\"\n",
    "new_parquet_files = glob.glob(os.path.join(new_path, \"*.parquet\"))"
   ]
  },
  {
   "cell_type": "code",
   "execution_count": 3,
   "id": "51aec9b6",
   "metadata": {},
   "outputs": [],
   "source": [
    "for file in old_parquet_files:\n",
    "    df = (pd.read_parquet(file))\n",
    "    UniqueNames = df.Identifier.unique()\n",
    "    DataFrameDict = {elem : pd.DataFrame() for elem in UniqueNames}\n",
    "    for key in DataFrameDict.keys():\n",
    "        DataFrameDict[key] = df[:][df.Identifier == key]\n",
    "        df_1= DataFrameDict[key]\n",
    "        filepath = new_path + '/' + key + '.parquet'\n",
    "        df['date'] = df['date_time'].dt.date\n",
    "        df['hour'] = df['date_time'].dt.hour\n",
    "        #df['hours'] =df['hour']\n",
    "        x1= df.columns.get_loc(\"SensorOcc000\")\n",
    "        X=df.iloc[:,x1:x1+10]\n",
    "        df['number_of_sensors']= X.apply(lambda x: x.count(), axis=1)\n",
    "        y= X.count(axis='columns')\n",
    "        c=y.replace([1,2,3,4,5,6,7,8,9],1)\n",
    "        df['number_of readings']= c\n",
    "        X['date']= df['date']\n",
    "        X['hour']= df['hour']\n",
    "        #X['hours']=df['hours']\n",
    "        dy= X.groupby(['date', 'hour']).mean()\n",
    "        dz= pd.DataFrame()\n",
    "        dz['date']= df['date']\n",
    "        dz['hour']= df['hour']\n",
    "        dz['no_sensors']= df['number_of_sensors']\n",
    "        dz['number_of readings']= df['number_of readings']\n",
    "        dg= dz.groupby(['date', 'hour']).max()\n",
    "        dg1= dz.groupby(['date', 'hour']).sum()\n",
    "        dy['no_of_sensors']= dg['no_sensors']\n",
    "        dy['number_of readings']= dg1['number_of readings']\n",
    "        x1= dy.columns.get_loc(\"SensorOcc000\")\n",
    "        X=dy.iloc[:,x1:x1+10]\n",
    "        dy['average_occupancy']= X.mean(axis=1)\n",
    "        dy.to_parquet(filepath)"
   ]
  }
 ],
 "metadata": {
  "kernelspec": {
   "display_name": "Python 3 (ipykernel)",
   "language": "python",
   "name": "python3"
  },
  "language_info": {
   "codemirror_mode": {
    "name": "ipython",
    "version": 3
   },
   "file_extension": ".py",
   "mimetype": "text/x-python",
   "name": "python",
   "nbconvert_exporter": "python",
   "pygments_lexer": "ipython3",
   "version": "3.9.13"
  }
 },
 "nbformat": 4,
 "nbformat_minor": 5
}
