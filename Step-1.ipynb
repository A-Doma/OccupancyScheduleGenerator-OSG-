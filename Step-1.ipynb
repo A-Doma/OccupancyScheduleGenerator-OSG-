{
 "cells": [
  {
   "cell_type": "code",
   "execution_count": 1,
   "id": "03a48e1b",
   "metadata": {},
   "outputs": [],
   "source": [
    "import pandas as pd\n",
    "import numpy as np\n",
    "import openpyxl\n",
    "import pyarrow as pa\n",
    "import pyarrow.parquet as pq\n",
    "import glob\n",
    "import os\n",
    "from pandas.io.formats.excel import ExcelFormatter\n",
    "from pandas.io import gbq\n",
    "from openpyxl.workbook import Workbook\n",
    "from shutil import copyfile\n",
    "from pathlib import Path"
   ]
  },
  {
   "cell_type": "code",
   "execution_count": 3,
   "id": "bee5bace",
   "metadata": {},
   "outputs": [],
   "source": [
    "old_path = \"D:\\\\EcoBee\\\\EcobeeData_06_2023\\\\Canada_All_Data\"\n",
    "old_parquet_files = glob.glob(os.path.join(old_path, \"*.parquet\"))\n",
    "new_path = \"D:\\\\EcoBee\\\\Internship Final Steps\\\\Updated All Canada_0\"\n",
    "new_parquet_files = glob.glob(os.path.join(new_path, \"*.parquet\"))"
   ]
  },
  {
   "cell_type": "code",
   "execution_count": 4,
   "id": "d0afbfc2",
   "metadata": {},
   "outputs": [],
   "source": [
    "for file in old_parquet_files:\n",
    "    df = (pd.read_parquet(file))\n",
    "    UniqueNames = df.Identifier.unique()\n",
    "    DataFrameDict = {elem : pd.DataFrame() for elem in UniqueNames}\n",
    "    for key in DataFrameDict.keys():\n",
    "        DataFrameDict[key] = df[:][df.Identifier == key]\n",
    "        df_1= DataFrameDict[key]\n",
    "        ##below is just to delete the columns I don't need - adjust this as necessary or remove.\n",
    "        df_2= df_1.drop(df.columns[[2,3,4,5,6,7,8,9,10,11,12,13,14,15,16,17,18,19,21,23,25,27,29,31,33,35,37,39]], axis = 1)\n",
    "        filepath = new_path + '/' + key + '.parquet'\n",
    "        if not os.path.exists(filepath):\n",
    "            df_new = df_2[0:0]\n",
    "            df_new.to_parquet(filepath)\n",
    "        \n",
    "        df_3 = pd.read_parquet(filepath)\n",
    "        df_4 = pd.concat([df_3, df_2])\n",
    "        df_4.to_parquet(filepath)"
   ]
  },
  {
   "cell_type": "code",
   "execution_count": null,
   "id": "a6181cbc",
   "metadata": {},
   "outputs": [],
   "source": []
  }
 ],
 "metadata": {
  "kernelspec": {
   "display_name": "Python 3 (ipykernel)",
   "language": "python",
   "name": "python3"
  },
  "language_info": {
   "codemirror_mode": {
    "name": "ipython",
    "version": 3
   },
   "file_extension": ".py",
   "mimetype": "text/x-python",
   "name": "python",
   "nbconvert_exporter": "python",
   "pygments_lexer": "ipython3",
   "version": "3.9.13"
  }
 },
 "nbformat": 4,
 "nbformat_minor": 5
}
