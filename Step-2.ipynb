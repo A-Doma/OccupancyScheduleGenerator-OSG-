{
 "cells": [
  {
   "cell_type": "code",
   "execution_count": 1,
   "id": "03a48e1b",
   "metadata": {},
   "outputs": [],
   "source": [
    "import pandas as pd\n",
    "import numpy as np\n",
    "import openpyxl\n",
    "import pyarrow as pa\n",
    "import pyarrow.parquet as pq\n",
    "import glob\n",
    "import os\n",
    "from pandas.io.formats.excel import ExcelFormatter\n",
    "from pandas.io import gbq\n",
    "from openpyxl.workbook import Workbook\n",
    "from shutil import copyfile\n",
    "from pathlib import Path"
   ]
  },
  {
   "cell_type": "code",
   "execution_count": 2,
   "id": "bee5bace",
   "metadata": {},
   "outputs": [],
   "source": [
    "old_path = \"D:\\\\EcoBee\\\\Internship Final Steps\\\\Updated All Canada_0\"\n",
    "old_parquet_files = glob.glob(os.path.join(old_path, \"*.parquet\"))\n",
    "new_path = \"D:\\\\EcoBee\\\\Internship Final Steps\\\\Updated All Canada_1\"\n",
    "new_parquet_files = glob.glob(os.path.join(new_path, \"*.parquet\"))"
   ]
  },
  {
   "cell_type": "code",
   "execution_count": 3,
   "id": "d0afbfc2",
   "metadata": {},
   "outputs": [],
   "source": [
    "for file in old_parquet_files:\n",
    "    df = (pd.read_parquet(file))\n",
    "    UniqueNames = df.Identifier.unique()\n",
    "    DataFrameDict = {elem : pd.DataFrame() for elem in UniqueNames}\n",
    "    for key in DataFrameDict.keys():\n",
    "        DataFrameDict[key] = df[:][df.Identifier == key]\n",
    "        df_1= DataFrameDict[key]\n",
    "        start_col_index = 2  # Assuming the conversion should start from the second column\n",
    "        end_col_index = 12   # Assuming 8 consecutive columns need to be converted\n",
    "        filepath = new_path + '/' + key + '.parquet'\n",
    "        # Convert True and False to 1 and 0 in the specified column range\n",
    "        df.iloc[:, start_col_index:end_col_index] = df.iloc[:, start_col_index:end_col_index].astype(float)\n",
    "        df.iloc[:, start_col_index:end_col_index] = df.iloc[:, start_col_index:end_col_index].replace({True: 1, False: 0})\n",
    "\n",
    "        df['date_time'] = df['date_time'].dt.tz_localize('UTC')\n",
    "        df['time_cvt'] = df['date_time'].dt.tz_convert('US/Eastern')\n",
    "        df['time'] = df['time_cvt'].dt.strftime('%Y-%m-%d %H:%M:%S')\n",
    "        df =df.drop('time_cvt', axis=1)\n",
    "        df['year'] = df['date_time'].dt.year.astype('int16')  # Downcast to smaller integer type\n",
    "        df['month'] = df['date_time'].dt.month.astype('int8')  # Downcast to smaller integer type\n",
    "        df['day'] = df['date_time'].dt.day.astype('int8')  # Downcast to smaller integer type\n",
    "        df['time'] = df['date_time'].dt.time  # No change needed\n",
    "        df.to_parquet(filepath)"
   ]
  },
  {
   "cell_type": "code",
   "execution_count": null,
   "id": "a6181cbc",
   "metadata": {},
   "outputs": [],
   "source": []
  }
 ],
 "metadata": {
  "kernelspec": {
   "display_name": "Python 3 (ipykernel)",
   "language": "python",
   "name": "python3"
  },
  "language_info": {
   "codemirror_mode": {
    "name": "ipython",
    "version": 3
   },
   "file_extension": ".py",
   "mimetype": "text/x-python",
   "name": "python",
   "nbconvert_exporter": "python",
   "pygments_lexer": "ipython3",
   "version": "3.9.13"
  }
 },
 "nbformat": 4,
 "nbformat_minor": 5
}
